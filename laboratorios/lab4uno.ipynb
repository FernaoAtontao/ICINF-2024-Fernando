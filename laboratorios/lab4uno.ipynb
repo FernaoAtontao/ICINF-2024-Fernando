{
 "cells": [
  {
   "cell_type": "markdown",
   "metadata": {},
   "source": [
    "**1. Desarrollar un código en Jupyter Notebook que trabaje con arrays y realice varias operaciones\n",
    "matemáticas y de manipulación de datos. El programa debe obtener la mediana, el promedio, y las\n",
    "posiciones de los valores máximo y mínimo de un array. Además, deberá transformar el array en una\n",
    "matriz y utilizar las funciones específicas para ello. A continuación se detalla los requerimientos:\n",
    "(50 Pts)**"
   ]
  },
  {
   "cell_type": "code",
   "execution_count": 2,
   "metadata": {},
   "outputs": [],
   "source": [
    "from numpy import array\n",
    "from matplotlib.pylab import randint\n",
    "from numpy import median\n",
    "import numpy as np"
   ]
  },
  {
   "cell_type": "markdown",
   "metadata": {},
   "source": [
    "**Crear un array de 10 elementos. Los elementos de este array deben ser consecutivos\n",
    "del 1 al 10. Este array no debe ser aleatorio.**"
   ]
  },
  {
   "cell_type": "code",
   "execution_count": 3,
   "metadata": {},
   "outputs": [
    {
     "data": {
      "text/plain": [
       "array([ 1,  2,  3,  4,  5,  6,  7,  8,  9, 10])"
      ]
     },
     "execution_count": 3,
     "metadata": {},
     "output_type": "execute_result"
    }
   ],
   "source": [
    "arraigo = array([1, 2, 3, 4, 5, 6, 7, 8, 9, 10]) \n",
    "arraigo"
   ]
  },
  {
   "cell_type": "markdown",
   "metadata": {},
   "source": [
    "**Crear un segundo array de 10 elementos. Este array si debe ser aleatorio. Los valores\n",
    "deben ser enteros entre el 1 al 20**"
   ]
  },
  {
   "cell_type": "code",
   "execution_count": 4,
   "metadata": {},
   "outputs": [
    {
     "data": {
      "text/plain": [
       "array([19, 11,  8,  5, 10,  4, 16,  7,  2,  2])"
      ]
     },
     "execution_count": 4,
     "metadata": {},
     "output_type": "execute_result"
    }
   ],
   "source": [
    "arraiglo = array([randint(1, 21) for _ in range(10)])\n",
    "arraiglo"
   ]
  },
  {
   "cell_type": "markdown",
   "metadata": {},
   "source": [
    "**Obtener un vector único de 10 elementos, sumando los dos arrays anteriores**"
   ]
  },
  {
   "cell_type": "code",
   "execution_count": 5,
   "metadata": {},
   "outputs": [],
   "source": [
    "vector = arraigo + arraiglo"
   ]
  },
  {
   "cell_type": "markdown",
   "metadata": {},
   "source": [
    "**Mezclar el vector obtenido en la letra C utilizando una función vista en la Unidad IV**"
   ]
  },
  {
   "cell_type": "code",
   "execution_count": 6,
   "metadata": {},
   "outputs": [],
   "source": [
    "vector = np.random.permutation(vector)"
   ]
  },
  {
   "cell_type": "markdown",
   "metadata": {},
   "source": [
    "**Calcular la Mediana, el Promedio y Posiciones de Valores Máximo y Mínimo utilizando\n",
    "las funciones vistas en la Unidad IV. Tomar el vector de la letra D**"
   ]
  },
  {
   "cell_type": "code",
   "execution_count": 7,
   "metadata": {},
   "outputs": [],
   "source": [
    "mediana = np.median(vector)\n",
    "\n",
    "promedio = np.mean(vector)\n",
    "\n",
    "maximo = np.max(vector)\n",
    "\n",
    "minimo = np.min(vector)"
   ]
  },
  {
   "cell_type": "markdown",
   "metadata": {},
   "source": [
    "**Transformar el vector obtenido en una Matriz de 2 x 5**"
   ]
  },
  {
   "cell_type": "code",
   "execution_count": 8,
   "metadata": {},
   "outputs": [
    {
     "data": {
      "text/plain": [
       "array([[13, 20, 15, 11, 10],\n",
       "       [23, 11, 15, 12,  9]])"
      ]
     },
     "execution_count": 8,
     "metadata": {},
     "output_type": "execute_result"
    }
   ],
   "source": [
    "vector = np.reshape(vector, (2, 5))\n",
    "vector"
   ]
  }
 ],
 "metadata": {
  "kernelspec": {
   "display_name": "Python 3",
   "language": "python",
   "name": "python3"
  },
  "language_info": {
   "codemirror_mode": {
    "name": "ipython",
    "version": 3
   },
   "file_extension": ".py",
   "mimetype": "text/x-python",
   "name": "python",
   "nbconvert_exporter": "python",
   "pygments_lexer": "ipython3",
   "version": "3.12.4"
  }
 },
 "nbformat": 4,
 "nbformat_minor": 2
}
