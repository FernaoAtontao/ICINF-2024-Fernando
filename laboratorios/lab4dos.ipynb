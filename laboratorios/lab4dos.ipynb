{
 "cells": [
  {
   "cell_type": "markdown",
   "metadata": {},
   "source": [
    "**2. Crear un gráfico de un vector aleatorio de 10 elementos utilizando un gráfico de líneas. (50 Pts)**"
   ]
  },
  {
   "cell_type": "code",
   "execution_count": null,
   "metadata": {},
   "outputs": [],
   "source": [
    "from matplotlib.pylab import randint\n",
    "from matplotlib import pyplot as plt\n",
    "import numpy as np"
   ]
  },
  {
   "cell_type": "markdown",
   "metadata": {},
   "source": [
    "**Crear un array aleatorio de 10 elementos. Los valores deben ser enteros entre el\n",
    "intervalo -5 al 5.**"
   ]
  },
  {
   "cell_type": "code",
   "execution_count": null,
   "metadata": {},
   "outputs": [],
   "source": [
    "vector_aleatorio = np.random.randint(-5, 6, 10)"
   ]
  },
  {
   "cell_type": "markdown",
   "metadata": {},
   "source": [
    "**B. Implementar un gráfico de líneas simples a partir del vector obtenido. El gráfico debe\n",
    "tener:\n",
    "● Marcadores por cada punto\n",
    "● Etiqueta para el gráfico\n",
    "● Nombre del gráfico, y nombrar los ejes X e Y**"
   ]
  },
  {
   "cell_type": "code",
   "execution_count": null,
   "metadata": {},
   "outputs": [],
   "source": [
    "plt.plot(vector_aleatorio)\n",
    "plt.title('Gráfico de vector aleatorio')\n",
    "plt.xlabel('Ejes X')\n",
    "plt.ylabel('Ejes Y')\n",
    "plt.show()"
   ]
  }
 ],
 "metadata": {
  "kernelspec": {
   "display_name": "Python 3",
   "language": "python",
   "name": "python3"
  },
  "language_info": {
   "codemirror_mode": {
    "name": "ipython",
    "version": 3
   },
   "file_extension": ".py",
   "mimetype": "text/x-python",
   "name": "python",
   "nbconvert_exporter": "python",
   "pygments_lexer": "ipython3",
   "version": "3.12.4"
  }
 },
 "nbformat": 4,
 "nbformat_minor": 2
}
